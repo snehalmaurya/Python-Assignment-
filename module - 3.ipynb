{
 "cells": [
  {
   "cell_type": "code",
   "execution_count": 1,
   "id": "72648ba3",
   "metadata": {},
   "outputs": [
    {
     "ename": "SyntaxError",
     "evalue": "invalid syntax (89672863.py, line 3)",
     "output_type": "error",
     "traceback": [
      "\u001b[0;36m  Cell \u001b[0;32mIn[1], line 3\u001b[0;36m\u001b[0m\n\u001b[0;31m    = Lists are used to store multiple items in a single variable.\u001b[0m\n\u001b[0m    ^\u001b[0m\n\u001b[0;31mSyntaxError\u001b[0m\u001b[0;31m:\u001b[0m invalid syntax\n"
     ]
    }
   ],
   "source": [
    "1. What is List? How will you reverse a list?\n",
    "\n",
    "= Lists are used to store multiple items in a single variable.\n",
    "a built-in function called reverse() is used to reverse the list.\n",
    "Syntax: list_name. reverse() "
   ]
  },
  {
   "cell_type": "code",
   "execution_count": null,
   "id": "8d625ebf",
   "metadata": {},
   "outputs": [],
   "source": [
    "2. How will you remove last object from a list?\n",
    "\n",
    "= In Python, there are several ways to delete the last element from \n",
    "the list. One way is to use the pop() method. This method removes \n",
    "the last element of a list by default, or you can specify the index \n",
    "of the element you want to remove.\n",
    "...\n",
    "For example:\n",
    "\n",
    "list1 = [1, 2, 3, 4, 5]\n",
    "list1.remove(5)\n",
    "print(list1)\n"
   ]
  },
  {
   "cell_type": "code",
   "execution_count": null,
   "id": "abd824ec",
   "metadata": {},
   "outputs": [],
   "source": [
    "3.Suppose list1 is [2, 33, 222, 14, and 25], what is list1 [-1]?\n",
    "= 25\n",
    "Explanation: -1 corresponds to the last index in the list.\n"
   ]
  },
  {
   "cell_type": "code",
   "execution_count": null,
   "id": "140cbbee",
   "metadata": {},
   "outputs": [],
   "source": [
    "4. Differentiate between append () and extend () methods?\n",
    "\n",
    "= append()\n",
    "A Python list type supports the append() method. This method \n",
    "adds an element to the end (right-hand side) of an existing list.\n",
    "\n",
    "The syntax for the append method is:\n",
    "    list.append(element)\n",
    "\n",
    "    example :\n",
    "        a = [1, 2, 3]\n",
    "        a.append(4, 5)\n",
    "\n",
    "        print(a)\n",
    "        \n",
    "extend()\n",
    "\n",
    "In Python, you can use the extend() method to add multiple elements\n",
    "to the end of a list. Similar to the append() method, the extend()\n",
    "method modifies the original list.\n",
    "\n",
    "The syntax of the extend() method is:\n",
    "\n",
    "list.extend(elements)\n",
    "\n",
    "For example:\n",
    "\n",
    "a = [1, 2, 3]\n",
    "a.extend([4, 5])\n",
    "print(a)\n",
    "\n"
   ]
  },
  {
   "cell_type": "code",
   "execution_count": null,
   "id": "1ee91756",
   "metadata": {},
   "outputs": [],
   "source": [
    "#5. Write a Python function to get the largest number, smallest num and sum\n",
    "# of all from a list.\n",
    "\n",
    "#create empty list \n",
    "\n",
    "mylist = []\n",
    "\n",
    "number = int(input('How many elements to put in List: '))\n",
    "\n",
    "for n in range(number):\n",
    "\n",
    "    element = input('Enter element ')\n",
    "\n",
    "    mylist.append(element)\n",
    "\n",
    "print(\"Maximum element in the list is :\", max(mylist))\n",
    "\n",
    "print(\"Minimum element in the list is :\", min(mylist))"
   ]
  },
  {
   "cell_type": "code",
   "execution_count": null,
   "id": "05882f98",
   "metadata": {},
   "outputs": [],
   "source": [
    "#6. How will you compare two lists?\n",
    "\n",
    "# Python set() function manipulate the list into the set without \n",
    "# taking care of the order of elements. Besides, weuse the equal to\n",
    "# operator (==) to compare the data items of the list.\n",
    "\n",
    "# Example -\n",
    "\n",
    "list1 = [11, 12, 13, 14, 15]  \n",
    "list2 = [12, 13, 11, 15, 14]  \n",
    "  \n",
    "a = set(list1)  \n",
    "b = set(list2)  \n",
    "  \n",
    "if a == b:  \n",
    "    print(\"The list1 and list2 are equal\")  \n",
    "else:  \n",
    "    print(\"The list1 and list2 are not equal\")  "
   ]
  },
  {
   "cell_type": "code",
   "execution_count": null,
   "id": "591b845c",
   "metadata": {},
   "outputs": [],
   "source": [
    "#7. Write a Python program to count the number of strings where the \n",
    "#string length is 2 or more and the first and last character are \n",
    "# same from a given list of strings.\n",
    "\n",
    "a = ['abc', 'xyz', 'aba', 'dcd', 'aaa', 'asdasdsada']\n",
    "count=0\n",
    "for i in a:\n",
    "    if len(i) > 2 and i[0] == i[-1]:\n",
    "        count+=1\n",
    "print(count)     \n"
   ]
  },
  {
   "cell_type": "code",
   "execution_count": null,
   "id": "e2e2abac",
   "metadata": {},
   "outputs": [],
   "source": [
    "#8. Write a Python program to remove duplicates from a list.\n",
    "\n",
    "list_1 = [1, 2, 1, 4, 6]\n",
    "\n",
    "print(list(set(list_1))) "
   ]
  },
  {
   "cell_type": "code",
   "execution_count": null,
   "id": "9122593b",
   "metadata": {},
   "outputs": [],
   "source": [
    "#9. Write a Python program to check a list is empty or not.\n",
    "\n",
    "l = []\n",
    "if not l:\n",
    "    print(\"List is empty\")\n",
    "else:\n",
    "    print(\"List is not empty\")"
   ]
  },
  {
   "cell_type": "code",
   "execution_count": null,
   "id": "ea9413fb",
   "metadata": {},
   "outputs": [],
   "source": [
    "#10. Write a Python function that takes two lists and returns true \n",
    "# if they have at least one common member.\n",
    "\n",
    "\n",
    "\n",
    "def f1(l1,l2):\n",
    "    result = False\n",
    "    for i in l1:\n",
    "        for j in l2:\n",
    "            if i == j:\n",
    "                result = True\n",
    "                return result\n",
    "    return result"
   ]
  },
  {
   "cell_type": "code",
   "execution_count": null,
   "id": "69206ae9",
   "metadata": {},
   "outputs": [],
   "source": [
    "f1([2,3,4,5], [1,6,7,0,9])"
   ]
  },
  {
   "cell_type": "code",
   "execution_count": 34,
   "id": "56ffaa32",
   "metadata": {},
   "outputs": [
    {
     "name": "stdout",
     "output_type": "stream",
     "text": [
      "[1, 4, 9, 16, 25]\n",
      "[625, 676, 729, 784, 841]\n"
     ]
    }
   ],
   "source": [
    "#11. Write a Python program to generate and print a list of first \n",
    "# and last 5 elements where the values are square of numbers between \n",
    "# 1 and 30.\n",
    "\n",
    "\n",
    "    \n",
    "l = list()\n",
    "for i in range(1,30):\n",
    "    l.append(i**2)\n",
    "print(l[:5])\n",
    "print(l[-5:])\n"
   ]
  },
  {
   "cell_type": "code",
   "execution_count": 35,
   "id": "4d3b129a",
   "metadata": {},
   "outputs": [
    {
     "name": "stdout",
     "output_type": "stream",
     "text": [
      "[1, 2, 3, 4, 5]\n"
     ]
    }
   ],
   "source": [
    "#12. Write a Python function that takes a list and returns a new \n",
    "# list with unique elements of the first list.\n",
    "\n",
    "a = {1,2,3,3,3,3,4,5}\n",
    "print(list(a))\n"
   ]
  },
  {
   "cell_type": "code",
   "execution_count": null,
   "id": "f98bfb4e",
   "metadata": {},
   "outputs": [],
   "source": [
    "#13. Write a Python program to convert a list of characters into a \n",
    "# string.\n",
    "\n",
    "s = ['h', 'e', 'a', 'l','t','h']\n",
    "str1 = ''.join(s)\n",
    "print(str1)\n",
    "\n"
   ]
  },
  {
   "cell_type": "code",
   "execution_count": null,
   "id": "0aa60ca9",
   "metadata": {},
   "outputs": [],
   "source": [
    "#14. Write a Python program to select an item randomly from a list.\n",
    "\n",
    "import random\n",
    "color_list = ['Red', 'Blue', 'Green', 'White', 'Black']\n",
    "random.choice(color_list)"
   ]
  },
  {
   "cell_type": "code",
   "execution_count": null,
   "id": "0529671f",
   "metadata": {},
   "outputs": [],
   "source": [
    "#15. Write a Python program to find the second smallest number in a list.\n",
    "\n",
    "li = [] \n",
    "n = int(input(\"Enter the number of elements: \"))\n",
    "for i in range(1, n+1): \n",
    "    elem = int(input(\"Enter the elements: \")) \n",
    "    li.append(elem) \n",
    "li.sort() \n",
    "print(\"The sorted list: \", li) \n",
    "print(\"The second smallest value of this list: \",li[1])"
   ]
  },
  {
   "cell_type": "code",
   "execution_count": null,
   "id": "2b4de172",
   "metadata": {},
   "outputs": [],
   "source": [
    "#16. Write a Python program to get unique values from a list.\n",
    "\n",
    "set4 = {12, 2.3, True, ('kite',3,4), 'lion',12,12,True, True, 'lion'}\n",
    "\n",
    "print(list(set4))"
   ]
  },
  {
   "cell_type": "code",
   "execution_count": 1,
   "id": "c5531bdf",
   "metadata": {},
   "outputs": [
    {
     "name": "stdout",
     "output_type": "stream",
     "text": [
      "Enter the list :3,5,7,8,2,5,9\n",
      "substring :5,7,8,2\n",
      "Is sublist present in list ? : True\n"
     ]
    }
   ],
   "source": [
    "#17. Write a Python program to check whether a list contains a \n",
    "# sub list.\n",
    "\n",
    "\n",
    "test_list = list(input('Enter the list :'))\n",
    " \n",
    "sublist = list(input('substring :'))\n",
    " \n",
    "c=0\n",
    "res=False\n",
    "for i in sublist:\n",
    "    if i in test_list:\n",
    "        c+=1\n",
    "if(c==len(sublist)):\n",
    "    res=True\n",
    "print(\"Is sublist present in list ? : \" + str(res))\n"
   ]
  },
  {
   "cell_type": "code",
   "execution_count": 3,
   "id": "cec6aef4",
   "metadata": {},
   "outputs": [
    {
     "name": "stdout",
     "output_type": "stream",
     "text": [
      "tell\n"
     ]
    }
   ],
   "source": [
    "#18. Write a Python program to split a list into different variables.\n",
    "\n",
    "list3 = [(\"wall\"),(\"fall\"),(\"tall\"),(\"tell\")]\n",
    "v1,v2,v3,v4 = list3\n",
    "print(v4)"
   ]
  },
  {
   "cell_type": "code",
   "execution_count": 4,
   "id": "96db0307",
   "metadata": {},
   "outputs": [
    {
     "ename": "SyntaxError",
     "evalue": "invalid syntax (3332662896.py, line 3)",
     "output_type": "error",
     "traceback": [
      "\u001b[0;36m  Cell \u001b[0;32mIn[4], line 3\u001b[0;36m\u001b[0m\n\u001b[0;31m    == LIST\u001b[0m\n\u001b[0m    ^\u001b[0m\n\u001b[0;31mSyntaxError\u001b[0m\u001b[0;31m:\u001b[0m invalid syntax\n"
     ]
    }
   ],
   "source": [
    "#19. What is tuple? Difference between list and tuple.\n",
    "\n",
    "== LIST\n",
    "Ordered, Indexed, Mutable,\n",
    "Allows all datatypes elements,\n",
    "Duplicate elements are ALLOWED.\n",
    "\n",
    "TURPLE\n",
    "Ordered, Indexed, Immutable,\n",
    "Allows all datatypes elements,\n",
    "Duplicate elements are ALLOWED\n"
   ]
  },
  {
   "cell_type": "code",
   "execution_count": 5,
   "id": "137b1b8f",
   "metadata": {},
   "outputs": [
    {
     "name": "stdout",
     "output_type": "stream",
     "text": [
      "([2, 3, 5, 6], {9, 2, 5}, {2: 5, 7: 9, 3: 1}, 'all the best', 123, 3.4)\n"
     ]
    }
   ],
   "source": [
    "#20. Write a Python program to create a tuple with different data \n",
    "# types.\n",
    "\n",
    "str4 = ([2,3,5,6],{2,5,9,5},{2:5,7:9,3:1},\"all the best\",123,3.4)\n",
    "print(tuple(str4))"
   ]
  },
  {
   "cell_type": "code",
   "execution_count": 6,
   "id": "9659c12a",
   "metadata": {},
   "outputs": [
    {
     "name": "stdout",
     "output_type": "stream",
     "text": [
      "(2, 4, 7, 9, 1, 5)\n"
     ]
    }
   ],
   "source": [
    "#21. Write a Python program to create a tuple with numbers.\n",
    "\n",
    "tuple1 =2,4,7,9,1,5\n",
    "print(tuple1)"
   ]
  },
  {
   "cell_type": "code",
   "execution_count": 7,
   "id": "906ec1f6",
   "metadata": {},
   "outputs": [
    {
     "name": "stdout",
     "output_type": "stream",
     "text": [
      "enter the tuple :2,4,5,6,7\n",
      "('2', ',', '4', ',', '5', ',', '6', ',', '7')\n"
     ]
    }
   ],
   "source": [
    "#22. Write a Python program to convert a tuple to a string.\n",
    "b=tuple(input(\"enter the tuple :\"))\n",
    "print(str(b))"
   ]
  },
  {
   "cell_type": "code",
   "execution_count": 8,
   "id": "e53e0faf",
   "metadata": {},
   "outputs": [
    {
     "name": "stdout",
     "output_type": "stream",
     "text": [
      "False\n",
      "True\n"
     ]
    }
   ],
   "source": [
    "#23. Write a Python program to check whether an element exists \n",
    "# within a tuple.\n",
    "\n",
    "tur0 =('s','n','e','h','a','l')\n",
    "print('A' in tur0)\n",
    "print('s' in tur0)"
   ]
  },
  {
   "cell_type": "code",
   "execution_count": 9,
   "id": "b9909287",
   "metadata": {},
   "outputs": [
    {
     "data": {
      "text/plain": [
       "9"
      ]
     },
     "execution_count": 9,
     "metadata": {},
     "output_type": "execute_result"
    }
   ],
   "source": [
    "#24. Write a Python program to find the length of a tuple.\n",
    "\n",
    "tur7 = (3,6,78,22,44,34,54,65,77)\n",
    "len(tur7)"
   ]
  },
  {
   "cell_type": "code",
   "execution_count": 10,
   "id": "e7f177ec",
   "metadata": {},
   "outputs": [
    {
     "name": "stdout",
     "output_type": "stream",
     "text": [
      "(2, 5, 7, 8, 9, 23, 5)\n"
     ]
    }
   ],
   "source": [
    "#25. write a Python program to convert a list to a tuple.\n",
    "\n",
    "list0 = [2,5,7,8,9,23,5]\n",
    "print(tuple(list0))"
   ]
  },
  {
   "cell_type": "code",
   "execution_count": 11,
   "id": "16000856",
   "metadata": {},
   "outputs": [
    {
     "name": "stdout",
     "output_type": "stream",
     "text": [
      "(100, -9, 3, 7.8, 90, 2, 324)\n"
     ]
    }
   ],
   "source": [
    "#26. Write a Python program to reverse a tuple.\n",
    "\n",
    "list4 = [324,2,90,7.8,3,-9,100]\n",
    "list4.reverse() \n",
    "print(tuple(list4))"
   ]
  },
  {
   "cell_type": "code",
   "execution_count": 12,
   "id": "ed84c335",
   "metadata": {},
   "outputs": [
    {
     "name": "stdout",
     "output_type": "stream",
     "text": [
      "[[8, 6, 1], [4, 3, 2], [6, 7, 3]]\n"
     ]
    }
   ],
   "source": [
    "#27. write a Python program to replace last value of tuples in a list.\n",
    "\n",
    "list6 = ([6,7,3],[4,3,2],[8,6,1])\n",
    "a = (list(list6))\n",
    "a.reverse()\n",
    "print(a)\n",
    "\n",
    "\n",
    "    \n"
   ]
  },
  {
   "cell_type": "code",
   "execution_count": 13,
   "id": "22e3fb51",
   "metadata": {},
   "outputs": [
    {
     "name": "stdout",
     "output_type": "stream",
     "text": [
      "(2, 4, 5, 6, 2, 3, 4, 4, 7)\n",
      "3\n"
     ]
    }
   ],
   "source": [
    "#28. Write a Python program to find the repeated items of a tuple.\n",
    "\n",
    "str4 = 2, 4, 5, 6, 2, 3, 4, 4, 7 \n",
    "print(str4)\n",
    "count = str4.count(4)\n",
    "print(count)"
   ]
  },
  {
   "cell_type": "code",
   "execution_count": 14,
   "id": "274d38e2",
   "metadata": {},
   "outputs": [
    {
     "name": "stdout",
     "output_type": "stream",
     "text": [
      "()\n"
     ]
    }
   ],
   "source": [
    "#29. Write a Python program to remove an empty tuple(s) from a list \n",
    "# of tuples.\n",
    "\n",
    "list4 = ['a','b', 'c', 'a', 'a', 'a']\n",
    "# list4.remove(element) # left to right first occurence\n",
    "list4.clear()\n",
    "print(tuple(list4))"
   ]
  },
  {
   "cell_type": "code",
   "execution_count": 15,
   "id": "2dc5383c",
   "metadata": {},
   "outputs": [
    {
     "name": "stdout",
     "output_type": "stream",
     "text": [
      "[(1, 3, 8), (2, 4, 9)]\n"
     ]
    }
   ],
   "source": [
    "#30. Write a Python program to unzip a list of tuples into \n",
    "# individual lists.\n",
    "\n",
    "l = [(1,2), (3,4), (8,9)]\n",
    "print(list(zip(*l)))"
   ]
  },
  {
   "cell_type": "code",
   "execution_count": 16,
   "id": "66c7f2e3",
   "metadata": {},
   "outputs": [
    {
     "name": "stdout",
     "output_type": "stream",
     "text": [
      "{'akash': 10, 'gaurav': 12, 'anand': 14, 'suraj': 20, 'akhil': 25, 'ashish': 30}\n"
     ]
    }
   ],
   "source": [
    "#31. Write a Python program to convert a list of tuples into a \n",
    "# dictionary.\n",
    "\n",
    "str5 = [(\"akash\", 10), (\"gaurav\", 12), (\"anand\", 14),\n",
    "        (\"suraj\", 20), (\"akhil\", 25), (\"ashish\", 30)]\n",
    "print(dict(str5))"
   ]
  },
  {
   "cell_type": "code",
   "execution_count": 17,
   "id": "88c482fa",
   "metadata": {},
   "outputs": [
    {
     "name": "stdout",
     "output_type": "stream",
     "text": [
      "{'akash': 10, 'gaurav': 12, 'anand': 14, 'suraj': 20, 'akhil': 25, 'ashish': 30}\n"
     ]
    }
   ],
   "source": [
    "#32. How will you create a dictionary using tuples in python?\n",
    "\n",
    "str8 = [(\"aryan\", 10), (\"ritik\", 12), (\"aru\", 14),\n",
    "        (\"pragati\", 20), (\"akhil\", 25), (\"shiv\", 30)]\n",
    "print(dict(str5))"
   ]
  },
  {
   "cell_type": "code",
   "execution_count": 18,
   "id": "6177d8df",
   "metadata": {
    "scrolled": true
   },
   "outputs": [
    {
     "name": "stdout",
     "output_type": "stream",
     "text": [
      "[9, 6, 5, 2]\n"
     ]
    }
   ],
   "source": [
    "#33. Write a Python script to sort (ascending and descending) a \n",
    "# dictionary by value.\n",
    "\n",
    "dict5 = {'a':9,'b':6,'e':5,'t':2}\n",
    "str3 = list(dict5.values())\n",
    "str3.sort(reverse=True)\n",
    "print(str3)\n",
    "        \n",
    "        \n",
    "        "
   ]
  },
  {
   "cell_type": "code",
   "execution_count": 19,
   "id": "a982f330",
   "metadata": {},
   "outputs": [
    {
     "name": "stdout",
     "output_type": "stream",
     "text": [
      "{1: 10, 2: 20, 3: 30, 4: 40, 5: 50, 6: 60}\n"
     ]
    }
   ],
   "source": [
    "#34. Write a Python script to concatenate following dictionaries \n",
    "# to create a new one.\n",
    "\n",
    "dic1={1:10, 2:20}\n",
    "dic2={3:30, 4:40}\n",
    "dic3={5:50,6:60}\n",
    "dic4 = {}\n",
    "for d in (dic1, dic2, dic3): dic4.update(d)\n",
    "print(dic4)\n"
   ]
  },
  {
   "cell_type": "code",
   "execution_count": 21,
   "id": "53168737",
   "metadata": {},
   "outputs": [
    {
     "name": "stdout",
     "output_type": "stream",
     "text": [
      "Not Present\n"
     ]
    }
   ],
   "source": [
    "#35. Write a Python script to check if a given key already exists \n",
    "# in a dictionary.\n",
    "\n",
    "dic = {'a': 100, 'b':200, 'c':300}\n",
    " \n",
    "\n",
    "if dic.get('d') == None:\n",
    "    print(\"Not Present\")\n",
    "else:\n",
    "    print(\"Present\")\n"
   ]
  },
  {
   "cell_type": "code",
   "execution_count": null,
   "id": "24f8728e",
   "metadata": {},
   "outputs": [],
   "source": [
    "#36. How Do You Traverse Through A Dictionary Object In Python?\n",
    "\n",
    "== Using dict. items() Method. ...\n",
    "Using Keys() Method. ...\n",
    "Using Values() Method. ...\n",
    "Iterating with Index. ...\n",
    "Iterating Over Dictionary In Alphabetical Order. ...\n",
    "Sort Using Dictionary Item Values.\n"
   ]
  },
  {
   "cell_type": "code",
   "execution_count": 22,
   "id": "2322a284",
   "metadata": {},
   "outputs": [
    {
     "name": "stdout",
     "output_type": "stream",
     "text": [
      "False\n"
     ]
    }
   ],
   "source": [
    "#37. How Do You Check The Presence Of A Key In A Dictionary?\n",
    "\n",
    "# == using in operator we can check the presence of a key in a \n",
    "# dictionary \n",
    "\n",
    "dic1={1:10, 2:20 , 3:30, 4:40 , 3:30, 4:40 }\n",
    "print(8 in dic1)"
   ]
  },
  {
   "cell_type": "code",
   "execution_count": 23,
   "id": "799fed03",
   "metadata": {},
   "outputs": [
    {
     "name": "stdout",
     "output_type": "stream",
     "text": [
      "{1: 1, 2: 4, 3: 9, 4: 16, 5: 25, 6: 36, 7: 49, 8: 64, 9: 81, 10: 100, 11: 121, 12: 144, 13: 169, 14: 196, 15: 225}\n"
     ]
    }
   ],
   "source": [
    "#38. Write a Python script to print a dictionary where the keys \n",
    "# are numbers between 1 and 15.\n",
    "\n",
    "d=dict()\n",
    "for x in range(1,16):\n",
    "    d[x]=x**2\n",
    "print(d)  \n",
    " "
   ]
  },
  {
   "cell_type": "code",
   "execution_count": 24,
   "id": "6343e378",
   "metadata": {},
   "outputs": [
    {
     "name": "stdout",
     "output_type": "stream",
     "text": [
      "True\n",
      "False\n",
      "True\n"
     ]
    }
   ],
   "source": [
    "#39. Write a Python program to check multiple keys exists \n",
    "# in a dictionary.\n",
    "\n",
    "student = {\n",
    "  'name': 'Alex',\n",
    "  'class': 'V',\n",
    "  'roll_id': '2'\n",
    "}\n",
    "print(student.keys() >= {'class', 'name'})\n",
    "print(student.keys() >= {'name', 'Alex'})\n",
    "print(student.keys() >= {'roll_id', 'name'})\n"
   ]
  },
  {
   "cell_type": "code",
   "execution_count": 25,
   "id": "0243ae61",
   "metadata": {},
   "outputs": [
    {
     "name": "stdout",
     "output_type": "stream",
     "text": [
      "{'a': 100, 'b': 200, 'x': 300, 'y': 200}\n"
     ]
    }
   ],
   "source": [
    "#40. Write a Python script to merge two Python dictionaries.\n",
    "\n",
    "d1 = {'a': 100, 'b': 200}\n",
    "d2 = {'x': 300, 'y': 200}\n",
    "d = d1.copy()\n",
    "d.update(d2)\n",
    "print(d)\n"
   ]
  },
  {
   "cell_type": "code",
   "execution_count": null,
   "id": "e13829c9",
   "metadata": {},
   "outputs": [],
   "source": [
    "#41. Write a Python program to map two lists into a dictionary.\n",
    "\n"
   ]
  },
  {
   "cell_type": "code",
   "execution_count": 26,
   "id": "6190202d",
   "metadata": {},
   "outputs": [
    {
     "name": "stdout",
     "output_type": "stream",
     "text": [
      "{'a': 400, 'b': 400, 'c': 300, 'd': 400}\n"
     ]
    }
   ],
   "source": [
    "#42. Write a Python program to combine two dictionary adding values for\n",
    "# common keys.\n",
    "\n",
    "d1 = {'a': 100, 'b': 200, 'c':300} \n",
    "d2 = {'a': 300, 'b': 200,'d':400}\n",
    "\n",
    "new_dict={}\n",
    "for key in d1.keys():\n",
    "    if key not in new_dict.keys():\n",
    "        new_dict[key]=d1[key]\n",
    "    else:\n",
    "        new_dict[key]+=d1[key]\n",
    "\n",
    "for key in d2.keys():\n",
    "    if key not in new_dict.keys():\n",
    "        new_dict[key]=d2[key]\n",
    "    else:\n",
    "        new_dict[key]+=d2[key]\n",
    "\n",
    "print(new_dict)"
   ]
  },
  {
   "cell_type": "code",
   "execution_count": 27,
   "id": "f7d890a0",
   "metadata": {},
   "outputs": [
    {
     "name": "stdout",
     "output_type": "stream",
     "text": [
      "Unique Values:  {'S009', 'S007', 'S002', 'S001', 'S005'}\n"
     ]
    }
   ],
   "source": [
    "#43. Write a Python program to print all unique values in a\n",
    "# dictionary.\n",
    "\n",
    "L = [{\"V\":\"S001\"}, {\"V\": \"S002\"}, {\"VI\": \"S001\"}, {\"VI\": \"S005\"}, \n",
    "     {\"VII\":\"S005\"}, {\"V\":\"S009\"},{\"VIII\":\"S007\"}]\n",
    "u_value = set( val for dic in L for val in dic.values())\n",
    "print(\"Unique Values: \",u_value)\n",
    "\n"
   ]
  },
  {
   "cell_type": "code",
   "execution_count": null,
   "id": "60158eaa",
   "metadata": {},
   "outputs": [],
   "source": [
    "#44. Why Do You Use the Zip () Method in Python?"
   ]
  },
  {
   "cell_type": "code",
   "execution_count": 5,
   "id": "e8b4875d",
   "metadata": {},
   "outputs": [
    {
     "name": "stdout",
     "output_type": "stream",
     "text": [
      "acadbcbd\n"
     ]
    }
   ],
   "source": [
    "#45. Write a Python program to create and display all combinations \n",
    "# of letters, selecting each letter from a different key in a \n",
    "# dictionary.\n",
    "#  Sample data: {'1': ['a','b'], '2': ['c','d']}  \n",
    "# Expected Output:\n",
    "# acadbcbd\n",
    "\n",
    "dict12 = {'1': ['a','b'], '2': ['c','d']} \n",
    "a = list(dict12.values())\n",
    "res = ''\n",
    "for i in a[0]:\n",
    "    for j in a[1]:\n",
    "        res+=(i+j)\n",
    "print(res)        \n"
   ]
  },
  {
   "cell_type": "code",
   "execution_count": null,
   "id": "17577f37",
   "metadata": {},
   "outputs": [],
   "source": [
    "#46. Write a Python program to find the highest 3 values in a \n",
    "# dictionary\n",
    "\n",
    "my_dict = {'A': 67, 'B': 23, 'C': 45,\n",
    "           'D': 56, 'E': 12, 'F': 69}\n",
    " \n",
    "k = Counter(my_dict)\n",
    " \n",
    "# Finding 3 highest values\n",
    "high = k.most_common(3)\n",
    "print(\"Dictionary with 3 highest values:\")\n",
    "print(\"Keys: Values\")\n",
    " \n",
    "for i in high:\n",
    "    print(i[0],\" :\",i[1],\" \")\n"
   ]
  },
  {
   "cell_type": "code",
   "execution_count": null,
   "id": "c16f3e1d",
   "metadata": {},
   "outputs": [],
   "source": [
    "#47. Write a Python program to combine values in python list of \n",
    "# dictionaries. Sample data: [{'item': 'item1', 'amount': 400}, \n",
    "# {'item': 'item2', 'amount':300},\n",
    "# {'item': 'item1', 'amount': 750}]\n",
    "# Expected Output: Counter ({'item1': 1150, 'item2': 300}) \n",
    "\n",
    "from collections import Counter\n",
    "item_list = [{'item': 'item1', 'amount': 400}, {'item': 'item2', \n",
    "'amount': 300}, {'item': 'item1', 'amount': 750}]\n",
    "result = Counter()\n",
    "for d in item_list:\n",
    "    result[d['item']] += d['amount']\n",
    "print(result) \n",
    " "
   ]
  },
  {
   "cell_type": "code",
   "execution_count": null,
   "id": "ebc043bd",
   "metadata": {},
   "outputs": [],
   "source": [
    "#48. Write a Python program to create a dictionary from a string.\n",
    "# Note: Track the count of the letters from the string. Sample string:\n",
    "# 'w3resource'\n",
    "# Expected output: {'3': 1,’s’: 1, 'r': 2, 'u': 1, 'w': 1, 'c': 1, \n",
    "# 'e': 2, 'o': 1}\n",
    "\n",
    "\n",
    "\n",
    "from collections import defaultdict, Counter\n",
    "str1 = 'w3resource' \n",
    "my_dict = {}\n",
    "for letter in str1:\n",
    "    my_dict[letter] = my_dict.get(letter, 0) + 1\n",
    "print(my_dict)\n",
    "  "
   ]
  },
  {
   "cell_type": "code",
   "execution_count": null,
   "id": "f98d8cb3",
   "metadata": {},
   "outputs": [],
   "source": [
    "#49. Write a Python function to calculate the\n",
    "# factorial of a number (a non- negative integer)\n",
    "\n",
    "num = int(input(\"Enter a number: \"))    \n",
    "factorial = 1    \n",
    "if num < 0:    \n",
    "    print(\" Factorial does not exist for negative numbers\")    \n",
    "elif num == 0:    \n",
    "    print(\"The factorial of 0 is 1\")    \n",
    "else:    \n",
    "    for i in range(1,num + 1):    \n",
    "        factorial = factorial*i    \n",
    "    print(\"The factorial of\",num,\"is\",factorial)  "
   ]
  },
  {
   "cell_type": "code",
   "execution_count": null,
   "id": "b54b2b6b",
   "metadata": {},
   "outputs": [],
   "source": [
    "#50. Write a Python function to check whether a number is in a \n",
    "# given range\n",
    "\n",
    "n = int(input(\"Enter a number :\"))\n",
    "if n in range(3,9):\n",
    "    print( \" %s is in the range\"%str(n))\n",
    "else :\n",
    "    print(\"The number is outside the given range.\")"
   ]
  },
  {
   "cell_type": "code",
   "execution_count": null,
   "id": "da63fb78",
   "metadata": {},
   "outputs": [],
   "source": [
    "#51. Write a Python function to check whether a number is perfect or not.\n",
    "\n",
    "n = int(input(\"Enter any number: \"))\n",
    "sum1 = 0\n",
    "for i in range(1, n):\n",
    "    if(n % i == 0):\n",
    "        sum1 = sum1 + i\n",
    "if (sum1 == n):\n",
    "    print(\"The number is a Perfect number!\")\n",
    "else:\n",
    "    print(\"The number is not a Perfect number!\")\n"
   ]
  },
  {
   "cell_type": "code",
   "execution_count": null,
   "id": "bf3630b1",
   "metadata": {},
   "outputs": [],
   "source": [
    "#52. Write a Python function that checks whether a passed string is\n",
    "# palindrome or not\n",
    "\n",
    "x = \"malayalam\"\n",
    "w = \"\"\n",
    "for i in x:\n",
    "    w = i + w\n",
    "if(x == w):\n",
    "    print(\"yes\")\n",
    "else:\n",
    "    print(\"no\")"
   ]
  },
  {
   "cell_type": "code",
   "execution_count": null,
   "id": "6d14e4ac",
   "metadata": {},
   "outputs": [],
   "source": [
    "#53. How do you perform pattern matching in Python? Explain\n",
    "\n",
    "== 5 ways to perform pattern matching in Python [Practical Examples]\n",
    "1. How to perform pattern matching in Python.\n",
    "2. Method-1: Using re.search() Function.\n",
    "3. Method-2: Using re.match() Function.\n",
    "4. Method-3: Using re.fullmatch() Function.\n",
    "5. Method-4: Using re.findall() Function.\n",
    "6. Method-5: Using re.finditer() Function.\n",
    "6. Summary.\n",
    "7. References.\n"
   ]
  },
  {
   "cell_type": "code",
   "execution_count": null,
   "id": "876aa945",
   "metadata": {},
   "outputs": [],
   "source": [
    "#54. What is lambda function in python? What we call a function which is\n",
    "# incomplete version of a function?\n",
    "\n",
    "== A lambda function is a small anonymous function. A lambda function \n",
    "can take any number of arguments, but can only have one expression."
   ]
  },
  {
   "cell_type": "code",
   "execution_count": null,
   "id": "98f264f4",
   "metadata": {},
   "outputs": [],
   "source": [
    "#55. How Many Basic Types Of Functions Are Available In Python?\n",
    "\n",
    "== There are two types of functions in python: User-Defined \n",
    "Functions - these types of functions are defined by the user to \n",
    "perform any specific task. Built-in Functions - these types of \n",
    "functions are pre-defined in python."
   ]
  },
  {
   "cell_type": "code",
   "execution_count": null,
   "id": "d4bdaecc",
   "metadata": {},
   "outputs": [],
   "source": [
    "# Write a Python program to convert degree to radian.\n",
    "a = float(input(\"Enter a degree :\"))\n",
    "π= 3.14159265359\n",
    "r = a * π/180\n",
    "print(r)"
   ]
  },
  {
   "cell_type": "code",
   "execution_count": null,
   "id": "c4f944ba",
   "metadata": {},
   "outputs": [],
   "source": [
    "#56. Write a Python program to calculate the area of a trapezoid\n",
    "\n",
    "a = float(input(\"Enter a base1 of trapezoid:\"))\n",
    "b = float(input(\"Enter a base2 of trapezoid:\"))\n",
    "h = float(input(\"Enter a height of trapezoid :\"))\n",
    "A = (a+b)/2*h\n",
    "print(\"Area of trapezoid is :\" , A)"
   ]
  },
  {
   "cell_type": "code",
   "execution_count": null,
   "id": "7d833651",
   "metadata": {},
   "outputs": [],
   "source": [
    "#57. Write a Python program to calculate the area of a parallelogram.\n",
    "\n",
    "base = float(input('Length of base: '))\n",
    "height = float(input('Measurement of height: '))\n",
    "area = base * height\n",
    "print(\"Area is: \", area)\n"
   ]
  },
  {
   "cell_type": "code",
   "execution_count": null,
   "id": "69366d6e",
   "metadata": {},
   "outputs": [],
   "source": [
    "#58. Write a Python program to calculate surface \n",
    "# volume and area of a cylinder\n",
    "\n",
    "pi=22/7\n",
    "height = float(input('Enter the height of cylinder: '))\n",
    "radian = float(input('Enter the radius of cylinder: '))\n",
    "volume = pi * radian * radian * height\n",
    "sur_area = ((2*pi*radian) * height) + ((pi*radian**2)*2)\n",
    "print(\"Volume is: \", volume)\n",
    "print(\"Surface Area is: \", sur_area)"
   ]
  },
  {
   "cell_type": "code",
   "execution_count": null,
   "id": "7f9af26f",
   "metadata": {},
   "outputs": [],
   "source": [
    "#59. Write a Python program to returns sum of all divisors of a number\n",
    "\n",
    "num = int(input(\"Enter the Number :\"))\n",
    "div = [1]\n",
    "for i in range(2, num):\n",
    "    if (num % i)==0:\n",
    "        div.append(i)\n",
    "print(\"Sum of All Divisors :\",sum(div))\n"
   ]
  },
  {
   "cell_type": "code",
   "execution_count": 2,
   "id": "688b7bd0",
   "metadata": {},
   "outputs": [
    {
     "name": "stdout",
     "output_type": "stream",
     "text": [
      "Maximum:  7.25\n",
      "Minimum:  0.04\n"
     ]
    }
   ],
   "source": [
    "#60. Write a Python program to find the maximum and minimum numbers\n",
    "# from the specified decimal numbers.\n",
    "\n",
    "\n",
    "from decimal import * \n",
    "data = list(map(Decimal, '2.45 2.69 2.45 3.45 2.00 0.04 7.25'.split()))\n",
    "print(\"Maximum: \", max(data))\n",
    "print(\"Minimum: \", min(data))\n"
   ]
  },
  {
   "cell_type": "code",
   "execution_count": 30,
   "id": "171627c7",
   "metadata": {},
   "outputs": [
    {
     "name": "stdout",
     "output_type": "stream",
     "text": [
      "3\n"
     ]
    }
   ],
   "source": []
  },
  {
   "cell_type": "code",
   "execution_count": null,
   "id": "1a22ee25",
   "metadata": {},
   "outputs": [],
   "source": []
  }
 ],
 "metadata": {
  "kernelspec": {
   "display_name": "Python 3 (ipykernel)",
   "language": "python",
   "name": "python3"
  },
  "language_info": {
   "codemirror_mode": {
    "name": "ipython",
    "version": 3
   },
   "file_extension": ".py",
   "mimetype": "text/x-python",
   "name": "python",
   "nbconvert_exporter": "python",
   "pygments_lexer": "ipython3",
   "version": "3.11.1"
  }
 },
 "nbformat": 4,
 "nbformat_minor": 5
}
