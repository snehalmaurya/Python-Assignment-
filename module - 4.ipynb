{
 "cells": [
  {
   "cell_type": "code",
   "execution_count": null,
   "id": "b3a22088",
   "metadata": {},
   "outputs": [],
   "source": [
    "# What is File function in python? What is keywords to create and \n",
    "# write file. \n",
    "\n",
    "--> Python file object provides methods and attributes to access and \n",
    "manipulate files.Using file objects, we can read or write any files.\n",
    "Open a file for writing. Creates a new file if it does not exist \n",
    "or truncates the file if it exists."
   ]
  },
  {
   "cell_type": "code",
   "execution_count": null,
   "id": "1af25e01",
   "metadata": {},
   "outputs": [],
   "source": [
    "# Write a Python program to read an entire text file. \n",
    "\n",
    "def file_read(fname):\n",
    "        txt = open(fname)\n",
    "        print(txt.read())\n",
    "\n",
    "file_read('test.txt')\n"
   ]
  },
  {
   "cell_type": "code",
   "execution_count": null,
   "id": "b3f8b941",
   "metadata": {},
   "outputs": [],
   "source": [
    "# Write a Python program to append text to a file and display the \n",
    "# text. \n",
    "\n",
    "def file_read(fname):\n",
    "        from itertools import islice\n",
    "        with open(fname, \"w\") as myfile:\n",
    "                myfile.write(\"Python Exercises\\n\")\n",
    "                myfile.write(\"Java Exercises\")\n",
    "        txt = open(fname)\n",
    "        print(txt.read())\n",
    "file_read('abc.txt')"
   ]
  },
  {
   "cell_type": "code",
   "execution_count": null,
   "id": "337cbe53",
   "metadata": {},
   "outputs": [],
   "source": [
    "# Write a Python program to read first n lines of a file. \n",
    "\n",
    "n = int(input(\"\\n\\t\\tEnter Lines To Read : \"))\n",
    "f = open(\"file.txt\",\"r\")\n",
    "for i in range(n):\n",
    "    print(f.readline())"
   ]
  },
  {
   "cell_type": "code",
   "execution_count": null,
   "id": "5e18f961",
   "metadata": {},
   "outputs": [],
   "source": [
    "# Write a Python program to read last n lines of a file\n",
    "\n",
    "\n",
    "inputFile = \"ExampleTextFile.txt\"\n",
    "N = int(input(\"Enter N value: \"))\n",
    "with open(inputFile, 'r') as filedata:\n",
    "linesList= filedata.readlines()\n",
    "print(\"The following are the first\",N,\"lines of a text file:\")\n",
    "for textline in (linesList[:N]):\n",
    "    print(textline, end ='')\n",
    "filedata.close()"
   ]
  },
  {
   "cell_type": "code",
   "execution_count": null,
   "id": "3c7f8446",
   "metadata": {},
   "outputs": [],
   "source": [
    "# Write a Python program to read a file line by line and store\n",
    "# it into a list\n",
    "\n",
    "L = [\"Geeks\\n\", \"for\\n\", \"Geeks\\n\"]\n",
    " \n",
    "# writing to file\n",
    "file1 = open('myfile.txt', 'w')\n",
    "file1.writelines(L)\n",
    "file1.close()\n",
    " \n",
    "# Using readlines()\n",
    "file1 = open('myfile.txt', 'r')\n",
    "Lines = file1.readlines()\n",
    " \n",
    "count = 0\n",
    "# Strips the newline character\n",
    "for line in Lines:\n",
    "    count += 1\n",
    "    print(\"Line{}: {}\".format(count, line.strip()))"
   ]
  },
  {
   "cell_type": "code",
   "execution_count": null,
   "id": "55cb5526",
   "metadata": {},
   "outputs": [],
   "source": [
    "# Write a Python program to read a file line by line \n",
    "# store it into a variable. \n",
    "\n",
    "def file_read(fname):\n",
    "        with open (fname, \"r\") as myfile:\n",
    "                data=myfile.readlines()\n",
    "                print(data)\n",
    "file_read('test.txt')\n"
   ]
  },
  {
   "cell_type": "code",
   "execution_count": null,
   "id": "659f5ebf",
   "metadata": {},
   "outputs": [],
   "source": [
    "# Write a python program to find the longest words. \n",
    "\n",
    "def largestWord(s):\n",
    " \n",
    "    s = sorted(s, key = len)\n",
    " \n",
    "    print(s[-1])\n",
    "\n",
    "if __name__ == \"__main__\":\n",
    " \n",
    "    s = \"be confident and be yourself\"\n",
    " \n",
    "    l = list(s.split(\" \"))\n",
    " \n",
    "    largestWord(l)"
   ]
  },
  {
   "cell_type": "code",
   "execution_count": null,
   "id": "6d7f0e89",
   "metadata": {},
   "outputs": [],
   "source": [
    "# Write a Python program to count the number of lines in a text file. \n",
    "\n",
    "fname = input(\"Enter file name: \")\n",
    "num_lines = 0\n",
    "with open(fname, 'r') as f:\n",
    "    for line in f:\n",
    "        num_lines += 1\n",
    "print(\"Number of lines:\")\n",
    "print(num_lines)\n"
   ]
  },
  {
   "cell_type": "code",
   "execution_count": null,
   "id": "cbaaaf31",
   "metadata": {},
   "outputs": [],
   "source": [
    "# Write a Python program to count the frequency of words in a file. \n",
    "\n",
    "from collections import Counter\n",
    "def word_count(fname):\n",
    "        with open(fname) as f:\n",
    "                return Counter(f.read().split())\n",
    "\n",
    "print(\"Number of words in the file :\",word_count(\"test.txt\"))\n"
   ]
  },
  {
   "cell_type": "code",
   "execution_count": null,
   "id": "e78a0ce9",
   "metadata": {},
   "outputs": [],
   "source": [
    "# Write a Python program to write a list to a file. \n",
    "\n",
    "items = ['Mango', 'Orange', 'Apple', 'Lemon']\n",
    "file = open('items.txt','w')\n",
    "for the item in items:\n",
    "\tfile.write(item+\"\\n\")\n",
    "file.close()\n",
    "Output"
   ]
  },
  {
   "cell_type": "code",
   "execution_count": null,
   "id": "111f4eec",
   "metadata": {},
   "outputs": [],
   "source": [
    "# Write a Python program to copy the contents of a file to another file. \n",
    "\n",
    "with open(\"test.txt\") as f:\n",
    "    with open(\"out.txt\", \"w\") as f1:\n",
    "        for line in f:\n",
    "            f1.write(line)\n"
   ]
  },
  {
   "cell_type": "code",
   "execution_count": null,
   "id": "c5046aca",
   "metadata": {},
   "outputs": [],
   "source": [
    "# Explain Exception handling? What is an Error in Python? \n",
    "\n",
    "\n",
    "--> An exception is a Python object that represents an error.\n",
    "A syntax error occurs in Python when the interpreter is unable \n",
    "to parse the code due to the code violating Python language rules"
   ]
  },
  {
   "cell_type": "code",
   "execution_count": null,
   "id": "4e80026f",
   "metadata": {},
   "outputs": [],
   "source": [
    "# How many except statements can a try-except block have? Name Some\n",
    "# built-in exception classes:\n",
    "\n",
    "--> more than zero. Python Built-in Exceptions. Python has a \n",
    "number of built-in exceptions, \n",
    "such as the well-known errors SyntaxError, NameError, and TypeError."
   ]
  },
  {
   "cell_type": "code",
   "execution_count": null,
   "id": "a910912f",
   "metadata": {},
   "outputs": [],
   "source": [
    "# When will the else part of try-except-else be executed? \n",
    "\n",
    "when no exception occurs. if there is no exception, the else \n",
    "portin is carried out."
   ]
  },
  {
   "cell_type": "code",
   "execution_count": null,
   "id": "de25709e",
   "metadata": {},
   "outputs": [],
   "source": [
    "# Can one block of except statements handle multiple exception? \n",
    "\n",
    "--> yes, like except typeerror,syntaxerror[,...]. it is possible to\n",
    "directly specify each kind of exception. it is not neccessary \n",
    "to include it in a list. "
   ]
  },
  {
   "cell_type": "code",
   "execution_count": null,
   "id": "c3720fe4",
   "metadata": {},
   "outputs": [],
   "source": [
    "# When is the finally block executed?\n",
    "\n",
    "--> The finally block always executes when the try block exits"
   ]
  },
  {
   "cell_type": "code",
   "execution_count": null,
   "id": "9ee9badc",
   "metadata": {},
   "outputs": [],
   "source": [
    "# What happens when „1‟== 1 is executed?\n",
    "\n",
    "--> evaluates to false and does not raise any exception."
   ]
  },
  {
   "cell_type": "code",
   "execution_count": null,
   "id": "1a1dc656",
   "metadata": {},
   "outputs": [],
   "source": [
    "# How Do You Handle Exceptions With Try/Except/Finally In Python?\n",
    "# Explain with coding snippets. \n",
    "\n",
    "--> Try \n",
    "The try...except block is used to handle exceptions in Python.\n",
    "try:\n",
    "    # code that may cause exception\n",
    "except:\n",
    "    # code to run when exception occurs\n",
    "\n",
    "-->Except    \n",
    "\n",
    "The except block catches the exception and statements inside \n",
    "the except block are executed. \n",
    "\n",
    "    "
   ]
  },
  {
   "cell_type": "code",
   "execution_count": null,
   "id": "d9cb95ef",
   "metadata": {},
   "outputs": [],
   "source": [
    "# Write python program that user to enter only odd numbers, else will\n",
    "# raise an exception. \n",
    "num = int(input())\n",
    "if num % 2 == 0:\n",
    "else:\n",
    "    print('success')\n"
   ]
  },
  {
   "cell_type": "code",
   "execution_count": null,
   "id": "069d9792",
   "metadata": {},
   "outputs": [],
   "source": [
    "# What are oops concepts? Is multiple inheritance supported in java \n",
    "\n",
    "--> Object-oriented programming is a core of Java Programming,\n",
    "which is used for designing a program using classes and objects.\n",
    "java does not support Multiple Inheritance."
   ]
  },
  {
   "cell_type": "code",
   "execution_count": null,
   "id": "b4c926fc",
   "metadata": {},
   "outputs": [],
   "source": [
    "# How to Define a Class in Python? What Is Self? Give An Example Of\n",
    "# A Python Class\n",
    "\n",
    "--> A class in Python can be defined using the class keyword.SELF represents the \n",
    "instance of class. \n",
    "\n",
    "class Person:\n",
    "    def __init__(self, name, age):\n",
    "    self.name = name\n",
    "    self.age = age\n",
    "\n",
    "p1 = Person(\"John\", 36)\n",
    "\n",
    "print(p1.name)\n",
    "print(p1.age)\n"
   ]
  },
  {
   "cell_type": "code",
   "execution_count": null,
   "id": "0b6ed472",
   "metadata": {},
   "outputs": [],
   "source": [
    "# Write a Python class named Rectangle constructed by a length and\n",
    "# width and a method which will compute the area of a rectangle \n",
    "\n",
    "\n",
    "# Area of a rectangle\n",
    "\n",
    "class Rectangle():\n",
    "    def __init__(self, l, w):\n",
    "        self.length = l\n",
    "        self.width  = w\n",
    "\n",
    "    def rectangle_area(self):\n",
    "        return self.length*self.width\n",
    "\n",
    "newRectangle = Rectangle(12, 10)\n",
    "print(newRectangle.rectangle_area())\n"
   ]
  },
  {
   "cell_type": "code",
   "execution_count": null,
   "id": "a29831c2",
   "metadata": {},
   "outputs": [],
   "source": [
    "# Write a Python class named Circle constructed by a radius and two\n",
    "# methods which will compute the area and the perimeter of a circle \n",
    "\n",
    "\n",
    "class Circle():\n",
    "    def __init__(self, r):\n",
    "        self.radius = r\n",
    "\n",
    "    def area(self):\n",
    "        return self.radius**2*3.14\n",
    "    \n",
    "    def perimeter(self):\n",
    "        return 2*self.radius*3.14\n",
    "\n",
    "NewCircle = Circle(8)\n",
    "print(NewCircle.area())\n",
    "print(NewCircle.perimeter())\n"
   ]
  },
  {
   "cell_type": "code",
   "execution_count": null,
   "id": "6039cbb0",
   "metadata": {},
   "outputs": [],
   "source": [
    "# Explain Inheritance in Python with an example? What is init?\n",
    "# Or What Is A Constructor In Python? \n",
    "\n",
    "\n",
    "# inheritance allows us to create a new class from an existing class.\n",
    "# The new class that is created is known as subclass (child or derived\n",
    "# class) and the existing class from which the child class is derived\n",
    "# is known as superclass (parent or base class).\n",
    "\n",
    "class Animal:\n",
    "\n",
    "    name = \"\"\n",
    "    \n",
    "    def eat(self):\n",
    "        print(\"I can eat\")\n",
    "\n",
    "class Dog(Animal):\n",
    "\n",
    "    def display(self):\n",
    "        print(\"My name is \", self.name)\n",
    "\n",
    "labrador = Dog()\n",
    " \n",
    "labrador.name = \"Rohu\"\n",
    "labrador.eat()\n",
    " \n",
    "labrador.display()\n",
    "\n",
    "\n",
    "# the init \n",
    "\n",
    "# The __init__ method is the Python equivalent \n",
    "# of the C++ constructor in an object-oriented approach\n",
    "\n",
    "\n",
    "\n",
    "# constructor \n",
    "\n",
    "# A constructor is a special method in a class used to \n",
    "# create and initialize an object of a class."
   ]
  },
  {
   "cell_type": "code",
   "execution_count": null,
   "id": "f6177af9",
   "metadata": {},
   "outputs": [],
   "source": [
    "# What is Instantiation in terms of OOP terminology? \n",
    "\n",
    "--> In oop concept ,the processes of creating a new object for \n",
    "a class using a new keyword."
   ]
  },
  {
   "cell_type": "code",
   "execution_count": null,
   "id": "fcc4e41a",
   "metadata": {},
   "outputs": [],
   "source": [
    "# What is used to check whether an object o is an instance of class A?\n",
    "\n",
    "--> The Python's isinstance() function checks whether the object or \n",
    "variable is an instance of the specified class type or data type."
   ]
  },
  {
   "cell_type": "code",
   "execution_count": null,
   "id": "b8003950",
   "metadata": {},
   "outputs": [],
   "source": []
  },
  {
   "cell_type": "code",
   "execution_count": null,
   "id": "b7036082",
   "metadata": {},
   "outputs": [],
   "source": []
  }
 ],
 "metadata": {
  "kernelspec": {
   "display_name": "Python 3 (ipykernel)",
   "language": "python",
   "name": "python3"
  },
  "language_info": {
   "codemirror_mode": {
    "name": "ipython",
    "version": 3
   },
   "file_extension": ".py",
   "mimetype": "text/x-python",
   "name": "python",
   "nbconvert_exporter": "python",
   "pygments_lexer": "ipython3",
   "version": "3.11.1"
  }
 },
 "nbformat": 4,
 "nbformat_minor": 5
}
