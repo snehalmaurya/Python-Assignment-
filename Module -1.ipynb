{
 "cells": [
  {
   "cell_type": "code",
   "execution_count": null,
   "id": "e7f9087a",
   "metadata": {},
   "outputs": [],
   "source": [
    "                                        #SDLC\n",
    "1.What is software?\n",
    "- Software is a set of programs (sequence of instructions) that allows the users to \n",
    "perform a well-defined function or some specified task.\n",
    "\n",
    "2.What are the types of Applications?\n",
    "- Application Software\n",
    "- web Application \n",
    "- Mobile Application \n",
    "- Desktop Application \n",
    "- Software Application \n",
    "\n",
    "3.What is programing?\n",
    "- A programming language is a type of written language that tells computers what to do. \n",
    "Examples are: Python, Ruby, Java, JavaScript, C, C++, and C.\n",
    "Programming languages are used to write all computer programs and computer software.\n",
    "\n",
    "4.what is python?\n",
    "- Python is an interpreted, object-oriented, high-level programming language with \n",
    "dynamic semantics developed by Guido van Rossum.It was originally released in 1991.\n",
    "Designed to be easy as well as fun, the name \"Python\" is a nod to the British comedy \n",
    "group Monty Python.\n",
    "\n"
   ]
  }
 ],
 "metadata": {
  "kernelspec": {
   "display_name": "Python 3 (ipykernel)",
   "language": "python",
   "name": "python3"
  },
  "language_info": {
   "codemirror_mode": {
    "name": "ipython",
    "version": 3
   },
   "file_extension": ".py",
   "mimetype": "text/x-python",
   "name": "python",
   "nbconvert_exporter": "python",
   "pygments_lexer": "ipython3",
   "version": "3.11.1"
  }
 },
 "nbformat": 4,
 "nbformat_minor": 5
}
