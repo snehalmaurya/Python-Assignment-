{
 "cells": [
  {
   "cell_type": "code",
   "execution_count": null,
   "id": "0457674b",
   "metadata": {},
   "outputs": [],
   "source": [
    "#Write a Python program to check if a number is positive, negative or \n",
    "#zero.\n",
    "a = int(input())\n",
    "if a>0:\n",
    "    print(\"Number is postive\")\n",
    "elif a==0:\n",
    "    print(\"number is zero\")\n",
    "else:\n",
    "    print(\"Number is negative\")\n",
    "\n"
   ]
  },
  {
   "cell_type": "code",
   "execution_count": null,
   "id": "da0f649a",
   "metadata": {},
   "outputs": [],
   "source": [
    "#Write python program that swap two number with temp variable and\n",
    "#without temp variable.\n",
    "\n",
    "# Method - 1\n",
    "\n",
    "#variable1 = a\n",
    "#variable2 = b\n",
    "a = int(input())\n",
    "b = int(input())\n",
    "a = a + b\n",
    "b = a - b\n",
    "a = a - b\n",
    "print(\"value of Swap variable a :\")\n",
    "print(a)\n",
    "print(\"value of Swap variable b :\")\n",
    "print(b)\n",
    "\n",
    "\n",
    "#Method - 2\n",
    "a =int(input())\n",
    "b = int(input())\n",
    "temp = a\n",
    "a = b\n",
    "b = a\n",
    "temp = b\n",
    "print(a,b)"
   ]
  },
  {
   "cell_type": "code",
   "execution_count": null,
   "id": "68ab6b1e",
   "metadata": {},
   "outputs": [],
   "source": [
    "#Write a Python program to find whether a given number is even or odd,\n",
    "#print out an appropriate message to the user.\n",
    "\n",
    "num = int(input(\"Enter any number to test whether this number is odd or even :\"))\n",
    "if (num%2)== 0:\n",
    "    print(\"The number is even\")\n",
    "else:\n",
    "    print(\"The number is odd\")\n"
   ]
  },
  {
   "cell_type": "code",
   "execution_count": null,
   "id": "6c1a7b8a",
   "metadata": {},
   "outputs": [],
   "source": [
    "#Write a Python program to test whether a passed letter is a vowel or\n",
    "#not.\n",
    "alpa = input(\"Enter the Alphabeta to find whether the alphabeta is vowel or not \")\n",
    "if alpa in {'a','e','i','o','u','A','E','I','O','U'} :\n",
    "    print(\"this is vowel\")\n",
    "else :\n",
    "    print(\"this is consonent\")"
   ]
  },
  {
   "cell_type": "code",
   "execution_count": null,
   "id": "ebc68944",
   "metadata": {},
   "outputs": [],
   "source": [
    "#Write a Python program to sum of three given integers. However, if\n",
    "#two values are equal sum will be zero.\n",
    "\n",
    "num1=input()\n",
    "num2=input()\n",
    "num3=input()\n",
    "if num1==num2 or num2==num3 or num1==num3:\n",
    "    print()\n"
   ]
  },
  {
   "cell_type": "code",
   "execution_count": null,
   "id": "533b958c",
   "metadata": {},
   "outputs": [],
   "source": [
    "How memory is managed in Python?\n",
    "== Memory management in Python involves a private heap containing all Python objects and data structures. The management of this private heap is ensured internally by the Python memory manager.\n",
    " "
   ]
  },
  {
   "cell_type": "code",
   "execution_count": null,
   "id": "a1a949a6",
   "metadata": {},
   "outputs": [],
   "source": [
    "What is the purpose continue statement in python?\n",
    "The continue keyword is used to end the current iteration in a for loop \n",
    "(or a while loop), and continues to the next iteration."
   ]
  },
  {
   "cell_type": "code",
   "execution_count": null,
   "id": "7480ebea",
   "metadata": {},
   "outputs": [],
   "source": [
    "#Write a Python program to get the Factorial number of given number.\n",
    "num = int(input())\n",
    "a = 1\n",
    "for i in range(num,0,-1):\n",
    "    a *=i\n",
    "print(a)    "
   ]
  },
  {
   "cell_type": "code",
   "execution_count": null,
   "id": "3880f1d3",
   "metadata": {},
   "outputs": [],
   "source": [
    "#Write a Python program to get the Fibonacci series of given range.\n",
    "\n",
    "# for loop\n",
    "num = int(input())\n",
    "n1, n2 = 0, 1\n",
    "print(\"Fibonacci Series:\", n1, n2, end=\" \")\n",
    "for i in range(2, num):\n",
    "    n3 = n1 + n2\n",
    "    n1 = n2\n",
    "    n2 = n3\n",
    "    print(n3, end=\" \")\n",
    "\n",
    "print()\n"
   ]
  },
  {
   "cell_type": "code",
   "execution_count": null,
   "id": "854f1dc0",
   "metadata": {},
   "outputs": [],
   "source": [
    "#Write a Python program to sum of three given integers. However, if\n",
    "#two values are equal sum will be zero.\n",
    "a = int(input())\n",
    "b = int(input())\n",
    "c = int(input())\n",
    "a + b \n",
    "b + c \n",
    "a + c\n",
    "if a == b or b == c or a==c:\n",
    "    sum = 0\n",
    "else: \n",
    "    print(sum)"
   ]
  },
  {
   "cell_type": "code",
   "execution_count": null,
   "id": "ce11bbf2",
   "metadata": {},
   "outputs": [],
   "source": [
    "# Write a Python program that will return true if the two given integer\n",
    "# values are equal or their sum or difference is 5.\n",
    "a = int(input())\n",
    "b = int(input())\n",
    "\n",
    "if a == b or a + b == 5 or a - b ==5:\n",
    "    print(True) \n",
    "else:\n",
    "    print(False)\n"
   ]
  },
  {
   "cell_type": "code",
   "execution_count": null,
   "id": "ebbaed6b",
   "metadata": {},
   "outputs": [],
   "source": [
    "#Write a python program to sum of the first n positive integers.\n",
    "n = int(input(\"Input a number: \"))\n",
    "sum_num = (n * (n + 1)) / 2\n",
    "print(\"Sum of the first\", n ,\"positive integers:\", sum_num)\n"
   ]
  },
  {
   "cell_type": "code",
   "execution_count": null,
   "id": "7f54364e",
   "metadata": {
    "scrolled": true
   },
   "outputs": [],
   "source": [
    "# prime number\n",
    "a=int(input(\"Enter number: \"))\n",
    "k=0\n",
    "for i in range(2,a//2+1):\n",
    "    if(a%i==0):\n",
    "        k=k+1\n",
    "if(k<=0):\n",
    "    print(\"Number is prime\")\n",
    "else:\n",
    "    print(\"Number isn't prime\")\n"
   ]
  },
  {
   "cell_type": "code",
   "execution_count": null,
   "id": "87e30222",
   "metadata": {},
   "outputs": [],
   "source": [
    "# Write a Python program to calculate the length of a string.\n",
    "a = (input(\"enter the value :\"))\n",
    "len(a)\n"
   ]
  },
  {
   "cell_type": "code",
   "execution_count": null,
   "id": "7f2ba5f8",
   "metadata": {},
   "outputs": [],
   "source": [
    "# Write a Python program to count the number of characters (character\n",
    "# frequency) in a string\n",
    "ab = \"banana mango banana\"\n",
    "len('na')\n"
   ]
  },
  {
   "cell_type": "code",
   "execution_count": null,
   "id": "b918d533",
   "metadata": {},
   "outputs": [],
   "source": [
    "# What are negative indexes and why are they used?\n",
    "Ans : Negative Indexing is used to in Python to begin slicing from the end\n",
    "of the string i.e. the last. Slicing in Python gets a sub-string \n",
    "from a string.The slicing range is set as parameters i.e.\n",
    "start, stop and step"
   ]
  },
  {
   "cell_type": "code",
   "execution_count": null,
   "id": "c7b4c67e",
   "metadata": {},
   "outputs": [],
   "source": [
    "# Write a Python program to count occurrences of a substring in a \n",
    "# string.\n",
    "ab = \"banana mango banana\"\n",
    "ab.count('na')"
   ]
  },
  {
   "cell_type": "code",
   "execution_count": null,
   "id": "1ea7fd00",
   "metadata": {},
   "outputs": [],
   "source": [
    "#Write a Python program to get a single string from two given strings,\n",
    "#separated by a space and swap the first two characters of each string.\n",
    "a = input('Enter a string :')\n",
    "b = input('Enter a string :')\n",
    "if len(a)>2 and len(b)>2:\n",
    "    c=a[:2]\n",
    "    d=b[:2]\n",
    "    e=a[2:]\n",
    "    f=b[2:]\n",
    "    final=c+f\n",
    "    final1=d+e\n",
    "    print(final)\n",
    "    print(final1)\n",
    "else:\n",
    "    print('invalid string')"
   ]
  },
  {
   "cell_type": "code",
   "execution_count": null,
   "id": "f64b5b97",
   "metadata": {},
   "outputs": [],
   "source": [
    "# Write a Python program to add 'ing' at the end of a given string \n",
    "# (length should be at least 3). If the given string already ends with \n",
    "# 'ing' then add 'ly' insteadif the string length of the given string \n",
    "# is less than 3, leave it unchanged.\n",
    "\n",
    "a = input('Enter the value :')\n",
    "if len(string)>=3:\n",
    "    if a.endswith('ing'):\n",
    "        a=b[:-3]\n",
    "        c=b+\"ly\"\n",
    "        print(c)\n",
    "    else:\n",
    "        add=a+'ing'\n",
    "        print(add)\n",
    "else:\n",
    "    print(a)"
   ]
  },
  {
   "cell_type": "code",
   "execution_count": null,
   "id": "6fef37c2",
   "metadata": {},
   "outputs": [],
   "source": [
    "string = input()\n",
    "if len(string) < 3:\n",
    "    print(string)\n",
    "elif string[-3:] == 'ing':\n",
    "    print(string + 'ly')\n",
    "else:\n",
    "    print(string + 'ing')\n"
   ]
  },
  {
   "cell_type": "code",
   "execution_count": null,
   "id": "f17238a6",
   "metadata": {},
   "outputs": [],
   "source": [
    "# Write a Python program to find the first appearance of the substring\n",
    "# 'not'and 'poor' from a given string, if 'not' follows the 'poor', \n",
    "# replace the whole 'not'...'poor'substring with 'good'. Return the \n",
    "# resulting string.\n",
    "\n",
    "a = \" \"\n",
    "b = a.replace(\"\")"
   ]
  },
  {
   "cell_type": "code",
   "execution_count": 7,
   "id": "ebd77343",
   "metadata": {},
   "outputs": [
    {
     "name": "stdout",
     "output_type": "stream",
     "text": [
      "11\n"
     ]
    }
   ],
   "source": [
    "# Write a Python function that takes a list of words and returns \n",
    "# the length of the longest one.\n",
    "\n",
    "str = ['apple','mango','banana','kiwi','dragonfruit']\n",
    "longest = 0\n",
    "for i in str:\n",
    "    if len(i)>longest:\n",
    "        longest = len(i)\n",
    "print(longest)        \n",
    "        "
   ]
  },
  {
   "cell_type": "code",
   "execution_count": 6,
   "id": "a97bcc10",
   "metadata": {},
   "outputs": [
    {
     "name": "stdout",
     "output_type": "stream",
     "text": [
      "Enter a string to rverse : were\n",
      "erew\n"
     ]
    }
   ],
   "source": [
    "# Write a Python function to reverses a string if its \n",
    "# length is a multiple of 4.\n",
    "a = input(\"Enter a string to rverse : \")\n",
    "\n",
    "if len(a)%4==0:\n",
    "    b=a[::-1]\n",
    "    print(b)\n",
    "else:\n",
    "    print(\"sorry can't reverse the string.\")"
   ]
  },
  {
   "cell_type": "code",
   "execution_count": null,
   "id": "15dce70f",
   "metadata": {},
   "outputs": [],
   "source": [
    "# Write a Python program to get a string made of the first 2 and the last 2\n",
    "# chars from a given a string. Ifthe string length islessthan 2,return instead\n",
    "# of the empty string.\n",
    "# o Sample String:w3resource'\n",
    "# o Expected Result: 'w3ce'\n",
    "# o Sample String: 'w3'\n",
    "# o Expected Result: 'w3w3'\n",
    "# o Sample String: ' w'\n",
    "# o Expected Result: Empty String\n",
    "\n",
    "a=input(\"Enter the string :\")\n",
    "length=len(a)\n",
    "\n",
    "if length < 2:\n",
    "    print('empty string')\n",
    "else:\n",
    "    print(a[:2]+a[-2:])\n"
   ]
  },
  {
   "cell_type": "code",
   "execution_count": null,
   "id": "1222e243",
   "metadata": {},
   "outputs": [],
   "source": [
    "# Write a Python function to insert a string in the middle of a string.\n",
    "a=input('Enter a string')\n",
    "b=input('Enter a string')\n",
    "c=input('Enter a string')\n",
    "d=a+b+c\n",
    "print(d)"
   ]
  },
  {
   "cell_type": "code",
   "execution_count": null,
   "id": "dd9dfe94",
   "metadata": {},
   "outputs": [],
   "source": [
    "# Write a Python function to insert a string in the middle of a string.\n",
    "\n",
    "== >Negative Indexing is used to in Python to begin slicing from the \n",
    "end of the string i.e. the last. Slicing in Python gets a sub-string \n",
    "from a string. The slicing range is set as parameters i.e. start,\n",
    "stop and step\n",
    " "
   ]
  },
  {
   "cell_type": "code",
   "execution_count": null,
   "id": "4c2e4e29",
   "metadata": {},
   "outputs": [],
   "source": []
  }
 ],
 "metadata": {
  "kernelspec": {
   "display_name": "Python 3 (ipykernel)",
   "language": "python",
   "name": "python3"
  },
  "language_info": {
   "codemirror_mode": {
    "name": "ipython",
    "version": 3
   },
   "file_extension": ".py",
   "mimetype": "text/x-python",
   "name": "python",
   "nbconvert_exporter": "python",
   "pygments_lexer": "ipython3",
   "version": "3.11.1"
  }
 },
 "nbformat": 4,
 "nbformat_minor": 5
}
